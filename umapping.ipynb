{
 "cells": [
  {
   "cell_type": "code",
   "execution_count": 1,
   "metadata": {},
   "outputs": [
    {
     "name": "stderr",
     "output_type": "stream",
     "text": [
      "/Users/sergey_sysoev/Projects/hf-cluster/env/lib/python3.12/site-packages/tqdm/auto.py:21: TqdmWarning: IProgress not found. Please update jupyter and ipywidgets. See https://ipywidgets.readthedocs.io/en/stable/user_install.html\n",
      "  from .autonotebook import tqdm as notebook_tqdm\n"
     ]
    }
   ],
   "source": [
    "from itertools import product\n",
    "\n",
    "import pandas as pd\n",
    "import seaborn as sns\n",
    "import plotly.express as px\n",
    "from matplotlib import pyplot as plt\n",
    "from tqdm import tqdm\n",
    "\n",
    "from sklearn.preprocessing import StandardScaler\n",
    "\n",
    "from umap import UMAP"
   ]
  },
  {
   "cell_type": "code",
   "execution_count": 2,
   "metadata": {},
   "outputs": [],
   "source": [
    "import warnings\n",
    "warnings.simplefilter(action='ignore', category=FutureWarning)\n",
    "warnings.simplefilter(action='ignore', category=UserWarning)"
   ]
  },
  {
   "cell_type": "code",
   "execution_count": 3,
   "metadata": {},
   "outputs": [
    {
     "name": "stdout",
     "output_type": "stream",
     "text": [
      "<class 'pandas.core.frame.DataFrame'>\n",
      "Index: 73449 entries, 0 to 73449\n",
      "Data columns (total 22 columns):\n",
      " #   Column    Non-Null Count  Dtype  \n",
      "---  ------    --------------  -----  \n",
      " 0   los       73449 non-null  int64  \n",
      " 1   Provider  73449 non-null  object \n",
      " 2   female    73449 non-null  float64\n",
      " 3   age       73449 non-null  int64  \n",
      " 4   comI10    73449 non-null  int64  \n",
      " 5   comI20    73449 non-null  int64  \n",
      " 6   comI25    73449 non-null  int64  \n",
      " 7   comI48    73449 non-null  int64  \n",
      " 8   comI60    73449 non-null  int64  \n",
      " 9   comJ44    73449 non-null  int64  \n",
      " 10  comE10    73449 non-null  int64  \n",
      " 11  comN18    73449 non-null  int64  \n",
      " 12  comE66    73449 non-null  int64  \n",
      " 13  comI21    73449 non-null  int64  \n",
      " 14  comI05    73449 non-null  int64  \n",
      " 15  comI34    73449 non-null  int64  \n",
      " 16  comI42    73449 non-null  int64  \n",
      " 17  comN17    73449 non-null  int64  \n",
      " 18  comC00    73449 non-null  int64  \n",
      " 19  comI60_9  73449 non-null  int64  \n",
      " 20  comF00    73449 non-null  int64  \n",
      " 21  comU07    73449 non-null  int64  \n",
      "dtypes: float64(1), int64(20), object(1)\n",
      "memory usage: 12.9+ MB\n"
     ]
    }
   ],
   "source": [
    "df = pd.read_csv('data/hf_patients_data.csv')\n",
    "df.drop(columns=['id_global_pat'], inplace=True)\n",
    "df.dropna(inplace=True)\n",
    "df.info()"
   ]
  },
  {
   "cell_type": "code",
   "execution_count": 4,
   "metadata": {},
   "outputs": [],
   "source": [
    "# Для тестов\n",
    "# df = df.iloc[:100, :]\n",
    "# df.info()"
   ]
  },
  {
   "cell_type": "code",
   "execution_count": 5,
   "metadata": {},
   "outputs": [
    {
     "data": {
      "text/plain": [
       "['los',\n",
       " 'female',\n",
       " 'age',\n",
       " 'comI10',\n",
       " 'comI20',\n",
       " 'comI25',\n",
       " 'comI48',\n",
       " 'comI60',\n",
       " 'comJ44',\n",
       " 'comE10',\n",
       " 'comN18',\n",
       " 'comE66',\n",
       " 'comI21',\n",
       " 'comI05',\n",
       " 'comI34',\n",
       " 'comI42',\n",
       " 'comN17',\n",
       " 'comC00',\n",
       " 'comI60_9',\n",
       " 'comF00',\n",
       " 'comU07']"
      ]
     },
     "execution_count": 5,
     "metadata": {},
     "output_type": "execute_result"
    }
   ],
   "source": [
    "num_cols = list(df.select_dtypes(include='number').columns)\n",
    "num_cols"
   ]
  },
  {
   "cell_type": "code",
   "execution_count": 6,
   "metadata": {},
   "outputs": [],
   "source": [
    "def draw_umap(df: pd.DataFrame, metric: str = 'euclidean', min_dist: float = 0.1, n_neighbors: int = 5):\n",
    "    '''\n",
    "        f\n",
    "    '''\n",
    "\n",
    "    # Отмасштабируем данные\n",
    "    scaler = StandardScaler().set_output(transform='pandas')\n",
    "    df_scaled = scaler.fit_transform(df[num_cols])\n",
    "    df_scaled.head()\n",
    "\n",
    "    sex = df['female'].astype('category')\n",
    "\n",
    "    umap = UMAP(metric=metric, n_neighbors=n_neighbors, min_dist=min_dist, n_components=2, \n",
    "                random_state=42, n_jobs=1)\n",
    "    embedding = umap.fit_transform(df_scaled)\n",
    "    df['x'] = embedding[:, 0]\n",
    "    df['y'] = embedding[:, 1]\n",
    "    \n",
    "    plot_title = f'UMAP with metric: {metric}, min_dist: {min_dist}, n_neighbors: {n_neighbors}'\n",
    "\n",
    "    fig = px.scatter(df, 'x', 'y', color=sex, labels={'color': 'female'}, title=plot_title,\n",
    "                     width=1200, height=1000, template='simple_white', \n",
    "                     hover_data=num_cols)\n",
    "    fig.update_layout(margin=dict(l=50, r=50, t=50, b=50), paper_bgcolor=\"White\")\n",
    "    fig.update_xaxes(showline=True, linewidth=1, linecolor='black', mirror=True)\n",
    "    fig.update_yaxes(showline=True, linewidth=1, linecolor='black', mirror=True)\n",
    "    \n",
    "    fig.write_html(f'./umap_plots/UMAP_metric_{metric}_min-dist_{min_dist}_n-neighbors_{n_neighbors}.html')"
   ]
  },
  {
   "cell_type": "code",
   "execution_count": 7,
   "metadata": {},
   "outputs": [
    {
     "name": "stderr",
     "output_type": "stream",
     "text": [
      "  0%|          | 0/36 [00:00<?, ?it/s]"
     ]
    },
    {
     "name": "stderr",
     "output_type": "stream",
     "text": [
      "100%|██████████| 36/36 [2:53:51<00:00, 289.75s/it]  \n"
     ]
    }
   ],
   "source": [
    "metric_list = ['cosine', 'hamming', 'jaccard']\n",
    "min_dist_list = [0.1, 0.2, 0.5]\n",
    "n_neighbors_list = [25, 50, 100, 150]\n",
    "\n",
    "params = list(product(metric_list, min_dist_list, n_neighbors_list))\n",
    "\n",
    "for metric, min_dist, n_neighbors in tqdm(params, total=len(params)):\n",
    "    draw_umap(df, metric=metric, min_dist=min_dist, n_neighbors=n_neighbors)"
   ]
  },
  {
   "cell_type": "markdown",
   "metadata": {},
   "source": [
    "Визуально выбрали для кластеризации представления данных в 2D при помощи Umap с гиперпараметрами:\n",
    "1) metric='hamming', min_dist=0.2 и n_neighbors=150\n",
    "2) metric='hamming', min_dist=0.5 и n_neighbors=25"
   ]
  }
 ],
 "metadata": {
  "kernelspec": {
   "display_name": "env",
   "language": "python",
   "name": "python3"
  },
  "language_info": {
   "codemirror_mode": {
    "name": "ipython",
    "version": 3
   },
   "file_extension": ".py",
   "mimetype": "text/x-python",
   "name": "python",
   "nbconvert_exporter": "python",
   "pygments_lexer": "ipython3",
   "version": "3.12.6"
  }
 },
 "nbformat": 4,
 "nbformat_minor": 2
}
